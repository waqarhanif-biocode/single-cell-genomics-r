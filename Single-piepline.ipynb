{
 "cells": [
  {
   "cell_type": "code",
   "execution_count": null,
   "id": "dcc2f561",
   "metadata": {
    "scrolled": true
   },
   "outputs": [],
   "source": [
    "#Generating a STAR index for Homo sapiens\n",
    "!wget http://ftp.ensembl.org/pub/release-107/gtf/homo_sapiens/Homo_sapiens.GRCh38.107.gtf.gz\n",
    "!wget http://ftp.ensembl.org/pub/release-107/fasta/homo_sapiens/dna/Homo_sapiens.GRCh38.dna.primary_assembly.fa.gz\n",
    "\n",
    "!STAR --runThreadN 2 --runMode genomeGenerate \\\n",
    "--genomeDir /home/waqar/Documents/single-cell/index/ \\\n",
    "--genomeFastaFiles /home/waqar/Documents/single-cell/Homo_sapiens.GRCh38.dna.primary_assembly.fa \\\n",
    "--sjdbGTFfile /home/waqar/Documents/single-cell/Homo_sapiens*.gtf  \\\n",
    "--sjdbOverhang 90"
   ]
  },
  {
   "cell_type": "markdown",
   "id": "7b74fdbc",
   "metadata": {},
   "source": [
    "### You can also go with:\n",
    "for V2: /opt/737K-august-2016.txt\n",
    "for V3: /opt/3M-february-2018.txt"
   ]
  },
  {
   "cell_type": "code",
   "execution_count": 3,
   "id": "75cbedba",
   "metadata": {},
   "outputs": [
    {
     "name": "stdout",
     "output_type": "stream",
     "text": [
      "\t/usr/lib/rna-star/bin/STAR-avx2 --runThreadN 16 --genomeDir /opt/star-index/ --readFilesIn SRR12159611_2.fastq.gz,SRR12159610_2.fastq.gz,SRR12159609_2.fastq.gz,SRR12159608_2.fastq.gz,SRR12159603_2.fastq.gz,SRR12159602_2.fastq.gz,SRR12159601_2.fastq.gz,SRR12159600_2.fastq.gz,SRR12159595_2.fastq.gz,SRR12159594_2.fastq.gz,SRR12159593_2.fastq.gz,SRR12159592_2.fastq.gz SRR12159611_1.fastq.gz,SRR12159610_1.fastq.gz,SRR12159609_1.fastq.gz,SRR12159608_1.fastq.gz,SRR12159603_1.fastq.gz,SRR12159602_1.fastq.gz,SRR12159601_1.fastq.gz,SRR12159600_1.fastq.gz,SRR12159595_1.fastq.gz,SRR12159594_1.fastq.gz,SRR12159593_1.fastq.gz,SRR12159592_1.fastq.gz --soloType CB_UMI_Simple --soloCBwhitelist 737K-august-2016.txt --soloBarcodeReadLength 0 --soloUMIdedup=1MM_All --soloCBmatchWLtype 1MM_multi_pseudocounts --soloUMIfiltering MultiGeneUMI --soloCellFilter CellRanger2.2 --outFilterScoreMin 30 --outSAMmode None --readFilesCommand zcat --limitOutSJcollapsed 2000000 --soloOutFileNames /tumor.out/ genes.tsv barcodes.tsv matrix.mtx matrixSJ.mtx\n",
      "\tSTAR version: 2.7.10a   compiled: 2022-01-16T16:35:44+00:00 <place not set in Debian package>\n",
      "Apr 26 13:15:26 ..... started STAR run\n",
      "Apr 26 13:15:27 ..... loading genome\n",
      "Apr 26 13:16:04 ..... started mapping\n",
      "Apr 26 13:33:22 ..... finished mapping\n",
      "Apr 26 13:33:23 ..... started Solo counting\n",
      "Apr 26 13:35:37 ..... finished Solo counting\n",
      "Apr 26 13:35:37 ..... finished successfully\n"
     ]
    }
   ],
   "source": [
    "#for tumor samples only\n",
    "\n",
    "!STAR --runThreadN 16 --genomeDir /opt/star-index/ \\\n",
    "--readFilesIn SRR12159611_2.fastq.gz,SRR12159610_2.fastq.gz,SRR12159609_2.fastq.gz,SRR12159608_2.fastq.gz,SRR12159603_2.fastq.gz,SRR12159602_2.fastq.gz,SRR12159601_2.fastq.gz,SRR12159600_2.fastq.gz,SRR12159595_2.fastq.gz,SRR12159594_2.fastq.gz,SRR12159593_2.fastq.gz,SRR12159592_2.fastq.gz SRR12159611_1.fastq.gz,SRR12159610_1.fastq.gz,SRR12159609_1.fastq.gz,SRR12159608_1.fastq.gz,SRR12159603_1.fastq.gz,SRR12159602_1.fastq.gz,SRR12159601_1.fastq.gz,SRR12159600_1.fastq.gz,SRR12159595_1.fastq.gz,SRR12159594_1.fastq.gz,SRR12159593_1.fastq.gz,SRR12159592_1.fastq.gz \\\n",
    "--soloType CB_UMI_Simple \\\n",
    "--soloCBwhitelist /opt/737K-august-2016.txt \\\n",
    "--soloBarcodeReadLength 0  \\\n",
    "--soloUMIdedup=1MM_All \\\n",
    "--soloCBmatchWLtype 1MM_multi_pseudocounts \\\n",
    "--soloUMIfiltering MultiGeneUMI  \\\n",
    "--soloCellFilter CellRanger2.2 \\\n",
    "--outFilterScoreMin 30  \\\n",
    "--outSAMmode None \\\n",
    "--readFilesCommand zcat  \\\n",
    "--limitOutSJcollapsed 2000000 \\\n",
    "--soloOutFileNames /tumor.out/ genes.tsv barcodes.tsv matrix.mtx matrixSJ.mtx"
   ]
  },
  {
   "cell_type": "code",
   "execution_count": null,
   "id": "b385b5bc",
   "metadata": {},
   "outputs": [],
   "source": [
    "#for normal samples only\n",
    "\n",
    "!STAR --runThreadN 16 --genomeDir /opt/star-index/ \\\n",
    "--readFilesIn SRR12159607_2.fastq.gz,SRR12159606_2.fastq.gz,SRR12159605_2.fastq.gz,SRR12159604_2.fastq.gz,SRR12159599_2.fastq.gz,SRR12159598_2.fastq.gz,SRR12159597_2.fastq.gz,SRR12159596_2.fastq.gz,SRR12159591_2.fastq.gz,SRR12159590_2.fastq.gz,SRR12159589_2.fastq.gz,SRR12159588_2.fastq.gz SRR12159607_1.fastq.gz,SRR12159606_1.fastq.gz,SRR12159605_1.fastq.gz,SRR12159604_1.fastq.gz,SRR12159599_1.fastq.gz,SRR12159598_1.fastq.gz,SRR12159597_1.fastq.gz,SRR12159596_1.fastq.gz,SRR12159591_1.fastq.gz,SRR12159590_1.fastq.gz,SRR12159589_1.fastq.gz,SRR12159588_1.fastq.gz \\\n",
    "--soloType CB_UMI_Simple \\\n",
    "--soloCBwhitelist /opt/737K-august-2016.txt \\\n",
    "--soloBarcodeReadLength 0  \\\n",
    "--soloUMIdedup=1MM_All \\\n",
    "--soloCBmatchWLtype 1MM_multi_pseudocounts \\\n",
    "--soloUMIfiltering MultiGeneUMI  \\\n",
    "--soloCellFilter CellRanger2.2 \\\n",
    "--outFilterScoreMin 30  \\\n",
    "--outSAMmode None \\\n",
    "--readFilesCommand zcat  \\\n",
    "--limitOutSJcollapsed 2000000 \\\n",
    "--soloOutFileNames /normal.out/ genes.tsv barcodes.tsv matrix.mtx matrixSJ.mtx"
   ]
  }
 ],
 "metadata": {
  "kernelspec": {
   "display_name": "Python 3.10.4 64-bit",
   "language": "python",
   "name": "python3"
  },
  "language_info": {
   "codemirror_mode": {
    "name": "ipython",
    "version": 3
   },
   "file_extension": ".py",
   "mimetype": "text/x-python",
   "name": "python",
   "nbconvert_exporter": "python",
   "pygments_lexer": "ipython3",
   "version": "3.10.12 (main, Jun 11 2023, 05:26:28) [GCC 11.4.0]"
  },
  "vscode": {
   "interpreter": {
    "hash": "916dbcbb3f70747c44a77c7bcd40155683ae19c65e1c03b4aa3499c5328201f1"
   }
  }
 },
 "nbformat": 4,
 "nbformat_minor": 5
}
